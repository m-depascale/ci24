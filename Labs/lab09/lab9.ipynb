{
 "cells": [
  {
   "cell_type": "markdown",
   "metadata": {},
   "source": [
    "Copyright **`(c)`** 2023 Giovanni Squillero `<giovanni.squillero@polito.it>`  \n",
    "[`https://github.com/squillero/computational-intelligence`](https://github.com/squillero/computational-intelligence)  \n",
    "Free for personal or classroom use; see [`LICENSE.md`](https://github.com/squillero/computational-intelligence/blob/master/LICENSE.md) for details.  "
   ]
  },
  {
   "cell_type": "markdown",
   "metadata": {},
   "source": [
    "# LAB9\n",
    "\n",
    "Write a local-search algorithm (eg. an EA) able to solve the *Problem* instances 1, 2, 5, and 10 on a 1000-loci genomes, using a minimum number of fitness calls. That's all.\n",
    "\n",
    "### Deadlines:\n",
    "\n",
    "* Submission: Sunday, December 3 ([CET](https://www.timeanddate.com/time/zones/cet))\n",
    "* Reviews: Sunday, December 10 ([CET](https://www.timeanddate.com/time/zones/cet))\n",
    "\n",
    "Notes:\n",
    "\n",
    "* Reviews will be assigned  on Monday, December 4\n",
    "* You need to commit in order to be selected as a reviewer (ie. better to commit an empty work than not to commit)"
   ]
  },
  {
   "cell_type": "code",
   "execution_count": null,
   "metadata": {},
   "outputs": [],
   "source": [
    "import lab9_lib\n",
    "import lab9_population_methods"
   ]
  },
  {
   "cell_type": "code",
   "execution_count": null,
   "metadata": {},
   "outputs": [],
   "source": [
    "POPULATION_SIZE = 100\n",
    "P_MUTATION = 0.25\n",
    "GENERATIONS = 100"
   ]
  },
  {
   "cell_type": "code",
   "execution_count": null,
   "metadata": {},
   "outputs": [],
   "source": [
    "fitness = lab9_lib.make_problem(10)"
   ]
  },
  {
   "cell_type": "code",
   "execution_count": null,
   "metadata": {},
   "outputs": [],
   "source": [
    "population = lab9_population_methods.initialize_population(POPULATION_SIZE, fitness)\n",
    "print(fitness.calls)"
   ]
  },
  {
   "cell_type": "code",
   "execution_count": null,
   "metadata": {},
   "outputs": [],
   "source": [
    "import numpy as np\n",
    "import random\n",
    "\n",
    "def generate_individual(size=1000):\n",
    "    return random.choices([0, 1], k=size)\n",
    "\n",
    "def local_search_evolutionary_algorithm(population_size=50, generations=GENERATIONS*30, mutation_rate=0.03):\n",
    "    population = [(generate_individual(), None) for _ in range(population_size)]\n",
    "    mr = mutation_rate\n",
    "    \n",
    "    for generation in range(generations):\n",
    "        if generation%50: \n",
    "            mr = max(0.001, mr - 0.001)\n",
    "        if generation%1100: \n",
    "            mr = 0.003\n",
    "        for i in range(population_size):\n",
    "            if population[i][1] is None:\n",
    "                population[i] = (population[i][0], fitness(population[i][0]))\n",
    "\n",
    "        best_index = np.argmax([ind[1] for ind in population])\n",
    "        best_individual = population[best_index]\n",
    "        best_fitness = best_individual[1]\n",
    "\n",
    "        print(f\"Generation {generation}: Best Fitness = {best_fitness:.2%}\")\n",
    "\n",
    "        if best_fitness == 1.: \n",
    "            print(\"Solution found!\")\n",
    "            break\n",
    "\n",
    "        # Create new population by mutating the best-performing individual\n",
    "        new_population = [(best_individual[0][:], None) for _ in range(population_size)]\n",
    "\n",
    "        # Apply mutation to some of the genes in each individual\n",
    "        for i in range(population_size):\n",
    "            for j in range(len(new_population[i][0])):\n",
    "                if np.random.rand() < mr:\n",
    "                    new_population[i][0][j] = 1 - new_population[i][0][j]\n",
    "\n",
    "        # Comma strategy\n",
    "        population = new_population\n",
    "\n",
    "    return best_individual[0]\n",
    "\n",
    "result_genome = local_search_evolutionary_algorithm()\n",
    "\n",
    "print(\"Final Result:\")\n",
    "print(result_genome)\n"
   ]
  },
  {
   "cell_type": "code",
   "execution_count": null,
   "metadata": {},
   "outputs": [],
   "source": [
    "s = lab9_population_methods.local_search_bitflip_sc(5000, POPULATION_SIZE, population=population, fitness=fitness, default_mode=1, allopatric_selection=True)"
   ]
  },
  {
   "cell_type": "code",
   "execution_count": null,
   "metadata": {},
   "outputs": [],
   "source": [
    "s_gm_npc = lab9_population_methods.local_search_t_gm_npc(GENERATIONS, POPULATION_SIZE, population=population, fitness=fitness, default_mode=1, allopatric_selection=False)"
   ]
  },
  {
   "cell_type": "code",
   "execution_count": null,
   "metadata": {},
   "outputs": [],
   "source": [
    "s_gm_lr = lab9_population_methods.local_search_ea_gm_lr(GENERATIONS*1, POPULATION_SIZE, \n",
    "                                                               lab9_population_methods.single_point_crossover, \n",
    "                                                               population, fitness=fitness, default_mode=1)"
   ]
  },
  {
   "cell_type": "code",
   "execution_count": null,
   "metadata": {},
   "outputs": [],
   "source": [
    "s_cm = lab9_population_methods.local_search_ea_generic(GENERATIONS, POPULATION_SIZE, \n",
    "                                                               lab9_population_methods.chunk_mutation, lab9_population_methods.n_point_crossover, \n",
    "                                                               population, fitness=fitness, default_mode=0)"
   ]
  },
  {
   "cell_type": "code",
   "execution_count": null,
   "metadata": {},
   "outputs": [],
   "source": [
    "s_cm_v2 = lab9_population_methods.local_search_ea_generic(GENERATIONS*1, POPULATION_SIZE, \n",
    "                                                               lab9_population_methods.chunk_mutation_v2, lab9_population_methods.single_point_crossover, \n",
    "                                                               population, fitness=fitness, default_mode=1)"
   ]
  },
  {
   "cell_type": "code",
   "execution_count": null,
   "metadata": {},
   "outputs": [],
   "source": [
    "s_rm_npc = lab9_population_methods.local_search_ea_generic(GENERATIONS, POPULATION_SIZE, \n",
    "                                                           lab9_population_methods.random_mutation, lab9_population_methods.single_point_crossover, \n",
    "                                                           population, fitness=fitness)"
   ]
  },
  {
   "cell_type": "code",
   "execution_count": null,
   "metadata": {},
   "outputs": [],
   "source": [
    "s_gm_npc = lab9_population_methods.local_search_ea_generic(GENERATIONS, POPULATION_SIZE, \n",
    "                                                           lab9_population_methods.gaussian_mutation, lab9_population_methods.single_point_crossover, \n",
    "                                                           population, fitness=fitness)"
   ]
  },
  {
   "cell_type": "code",
   "execution_count": null,
   "metadata": {},
   "outputs": [],
   "source": [
    "s_gm = lab9_population_methods.local_search_ea_generic(GENERATIONS, POPULATION_SIZE, \n",
    "                                                       lab9_population_methods.gaussian_mutation, lab9_population_methods.uniform_crossover, \n",
    "                                                       population, fitness=fitness, default_mode=1)"
   ]
  },
  {
   "cell_type": "code",
   "execution_count": null,
   "metadata": {},
   "outputs": [],
   "source": [
    "s_gm_as = lab9_population_methods.local_search_ea_generic(GENERATIONS, POPULATION_SIZE, \n",
    "                                                          lab9_population_methods.gaussian_mutation, lab9_population_methods.n_point_crossover, \n",
    "                                                          population, allopatric_selection=True, fitness=fitness, default_mode=1)"
   ]
  },
  {
   "cell_type": "code",
   "execution_count": null,
   "metadata": {},
   "outputs": [],
   "source": [
    "s_gm_as_fs = lab9_population_methods.local_search_ea_generic(GENERATIONS, POPULATION_SIZE, \n",
    "                                                          lab9_population_methods.gaussian_mutation, lab9_population_methods.n_point_crossover, \n",
    "                                                          population, allopatric_selection=True, fitness=fitness, default_mode=1, sharing=True)"
   ]
  },
  {
   "cell_type": "code",
   "execution_count": null,
   "metadata": {},
   "outputs": [],
   "source": [
    "s_npc = lab9_population_methods.local_search_ea_generic(GENERATIONS, POPULATION_SIZE, \n",
    "                                                        lab9_population_methods.gaussian_mutation, lab9_population_methods.n_point_crossover, \n",
    "                                                        population, fitness=fitness, default_mode=2)"
   ]
  },
  {
   "cell_type": "code",
   "execution_count": null,
   "metadata": {},
   "outputs": [],
   "source": [
    "s_npc_and_gm = lab9_population_methods.local_search_ea_generic(GENERATIONS, POPULATION_SIZE, \n",
    "                                                               lab9_population_methods.gaussian_mutation, lab9_population_methods.n_point_crossover, \n",
    "                                                               population, fitness=fitness, default_mode=3)"
   ]
  },
  {
   "cell_type": "code",
   "execution_count": null,
   "metadata": {},
   "outputs": [],
   "source": [
    "s_npc_and_gm_fs = lab9_population_methods.local_search_ea_generic(GENERATIONS, POPULATION_SIZE, \n",
    "                                                               lab9_population_methods.gaussian_mutation, lab9_population_methods.n_point_crossover, \n",
    "                                                               population, fitness=fitness, default_mode=3, sharing=True)"
   ]
  },
  {
   "cell_type": "code",
   "execution_count": null,
   "metadata": {},
   "outputs": [],
   "source": [
    "s_npc_and_gm_as = lab9_population_methods.local_search_ea_generic(GENERATIONS, POPULATION_SIZE, \n",
    "                                                               lab9_population_methods.gaussian_mutation, lab9_population_methods.n_point_crossover, \n",
    "                                                               population, fitness=fitness, default_mode=3, allopatric_selection=True)"
   ]
  },
  {
   "cell_type": "code",
   "execution_count": null,
   "metadata": {},
   "outputs": [],
   "source": [
    "for problem in [1, 2, 5, 10]:\n",
    "    fitness = lab9_lib.make_problem(problem)\n",
    "    population = lab9_population_methods.initialize_population(POPULATION_SIZE, fitness)\n",
    "    print(fitness.calls)\n",
    "    s_cm_v2 = lab9_population_methods.local_search_ea_generic(GENERATIONS*1, POPULATION_SIZE, \n",
    "                                                               lab9_population_methods.chunk_mutation_v2, lab9_population_methods.single_point_crossover, \n",
    "                                                               population, fitness=fitness, default_mode=1)"
   ]
  }
 ],
 "metadata": {
  "kernelspec": {
   "display_name": "ci-fLJ3OwGs-py3.12",
   "language": "python",
   "name": "python3"
  },
  "language_info": {
   "codemirror_mode": {
    "name": "ipython",
    "version": 3
   },
   "file_extension": ".py",
   "mimetype": "text/x-python",
   "name": "python",
   "nbconvert_exporter": "python",
   "pygments_lexer": "ipython3",
   "version": "3.11.5"
  }
 },
 "nbformat": 4,
 "nbformat_minor": 2
}
