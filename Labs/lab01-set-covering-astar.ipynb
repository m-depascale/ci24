{
 "cells": [
  {
   "cell_type": "markdown",
   "metadata": {},
   "source": [
    "Copyright **`(c)`** 2023 Giovanni Squillero `<giovanni.squillero@polito.it>`  \n",
    "[`https://github.com/squillero/computational-intelligence`](https://github.com/squillero/computational-intelligence)  \n",
    "Free for personal or classroom use; see [`LICENSE.md`](https://github.com/squillero/computational-intelligence/blob/master/LICENSE.md) for details.  "
   ]
  },
  {
   "cell_type": "markdown",
   "metadata": {},
   "source": [
    "**SET COVERING**\n",
    "\n",
    "We have a set to cover with some *subsets*, we cover the set when taking subsets that *complete* the set even if some tiles are taken multiple times."
   ]
  },
  {
   "cell_type": "code",
   "execution_count": 231,
   "metadata": {},
   "outputs": [],
   "source": [
    "from random import random\n",
    "from functools import reduce\n",
    "from collections import namedtuple\n",
    "from queue import PriorityQueue, SimpleQueue, LifoQueue\n",
    "\n",
    "import numpy as np"
   ]
  },
  {
   "cell_type": "code",
   "execution_count": 232,
   "metadata": {},
   "outputs": [],
   "source": [
    "PROBLEM_SIZE = 20\n",
    "NUM_SETS = 40\n",
    "SETS = tuple(\n",
    "    np.array([random() < 0.25 for _ in range(PROBLEM_SIZE)])\n",
    "    for _ in range(NUM_SETS)\n",
    ")\n",
    "State = namedtuple('State', ['taken', 'not_taken'])"
   ]
  },
  {
   "cell_type": "code",
   "execution_count": 233,
   "metadata": {},
   "outputs": [
    {
     "data": {
      "text/plain": [
       "(array([False,  True,  True, False, False, False,  True, False, False,\n",
       "        False,  True,  True,  True, False, False, False,  True, False,\n",
       "         True, False]),\n",
       " array([False, False, False,  True,  True, False, False,  True, False,\n",
       "        False,  True, False, False,  True,  True, False,  True, False,\n",
       "         True, False]),\n",
       " array([False, False,  True, False, False,  True, False,  True,  True,\n",
       "        False, False,  True, False, False, False,  True, False, False,\n",
       "         True, False]),\n",
       " array([False, False,  True, False, False, False, False, False, False,\n",
       "        False, False, False,  True, False, False, False, False,  True,\n",
       "        False, False]),\n",
       " array([False, False, False, False, False, False, False, False, False,\n",
       "        False, False, False, False, False, False, False, False, False,\n",
       "        False, False]),\n",
       " array([False, False, False, False, False, False, False, False, False,\n",
       "        False, False, False, False,  True, False, False,  True, False,\n",
       "        False, False]),\n",
       " array([False, False, False,  True, False, False, False, False,  True,\n",
       "        False, False, False,  True, False, False, False, False,  True,\n",
       "        False, False]),\n",
       " array([False, False,  True, False, False, False,  True, False, False,\n",
       "         True, False, False,  True, False, False, False, False, False,\n",
       "        False, False]),\n",
       " array([False, False,  True, False,  True, False, False, False, False,\n",
       "        False, False, False,  True, False, False, False, False, False,\n",
       "         True,  True]),\n",
       " array([ True,  True,  True, False, False, False, False, False,  True,\n",
       "        False, False, False, False, False, False,  True, False,  True,\n",
       "        False, False]),\n",
       " array([False, False, False, False, False,  True,  True, False, False,\n",
       "        False, False, False, False, False,  True, False, False, False,\n",
       "        False, False]),\n",
       " array([False, False, False, False, False, False, False, False, False,\n",
       "        False, False, False, False, False, False,  True, False, False,\n",
       "        False, False]),\n",
       " array([False, False, False,  True, False,  True,  True, False,  True,\n",
       "        False, False, False,  True,  True,  True, False,  True, False,\n",
       "        False, False]),\n",
       " array([False,  True,  True, False, False,  True, False, False, False,\n",
       "        False,  True, False, False,  True, False,  True,  True, False,\n",
       "         True, False]),\n",
       " array([False, False, False, False, False, False, False, False,  True,\n",
       "        False, False, False, False, False, False,  True, False, False,\n",
       "        False, False]),\n",
       " array([False, False, False, False, False, False, False, False, False,\n",
       "        False, False,  True, False, False,  True, False, False, False,\n",
       "        False,  True]),\n",
       " array([ True, False, False, False, False, False, False, False, False,\n",
       "         True, False,  True, False,  True, False, False, False, False,\n",
       "         True, False]),\n",
       " array([False,  True, False, False, False, False, False, False, False,\n",
       "        False, False, False, False, False,  True, False, False,  True,\n",
       "         True, False]),\n",
       " array([False, False, False, False, False,  True, False, False,  True,\n",
       "        False, False,  True, False,  True, False,  True, False,  True,\n",
       "        False,  True]),\n",
       " array([False, False, False, False, False,  True, False, False, False,\n",
       "        False,  True,  True, False, False, False,  True,  True, False,\n",
       "        False, False]),\n",
       " array([False, False, False, False, False, False, False, False,  True,\n",
       "        False,  True, False, False, False, False, False,  True, False,\n",
       "         True, False]),\n",
       " array([False, False,  True, False, False, False, False, False, False,\n",
       "        False, False, False,  True, False, False, False, False, False,\n",
       "         True, False]),\n",
       " array([False, False, False, False, False, False, False, False, False,\n",
       "        False, False, False, False, False,  True, False, False, False,\n",
       "        False, False]),\n",
       " array([False,  True,  True, False, False, False, False, False, False,\n",
       "        False,  True,  True, False, False, False, False, False, False,\n",
       "        False, False]),\n",
       " array([False,  True,  True, False,  True, False, False, False, False,\n",
       "        False, False,  True, False, False, False, False, False, False,\n",
       "         True, False]),\n",
       " array([False, False, False,  True, False, False, False,  True, False,\n",
       "        False, False, False,  True, False, False,  True, False,  True,\n",
       "        False, False]),\n",
       " array([ True,  True, False,  True, False, False,  True, False,  True,\n",
       "        False, False,  True, False,  True, False, False, False, False,\n",
       "        False, False]),\n",
       " array([False, False, False, False, False, False, False,  True, False,\n",
       "        False, False, False, False,  True, False, False, False,  True,\n",
       "        False, False]),\n",
       " array([False, False, False, False, False, False, False, False, False,\n",
       "        False, False, False,  True, False, False,  True, False, False,\n",
       "        False, False]),\n",
       " array([False, False,  True,  True,  True,  True, False, False, False,\n",
       "        False, False, False, False, False,  True, False, False, False,\n",
       "        False,  True]),\n",
       " array([False, False,  True, False, False, False, False,  True, False,\n",
       "         True,  True,  True, False,  True, False, False, False, False,\n",
       "        False, False]),\n",
       " array([False, False, False, False, False, False, False, False, False,\n",
       "        False,  True, False, False, False, False, False, False, False,\n",
       "        False,  True]),\n",
       " array([False, False, False,  True, False, False, False, False, False,\n",
       "        False, False, False, False, False, False, False, False,  True,\n",
       "        False,  True]),\n",
       " array([False,  True, False, False, False,  True,  True, False,  True,\n",
       "        False, False, False,  True, False, False, False, False,  True,\n",
       "        False, False]),\n",
       " array([ True, False, False,  True, False, False, False, False,  True,\n",
       "        False,  True, False, False, False, False, False, False, False,\n",
       "         True, False]),\n",
       " array([False, False, False, False, False, False, False,  True, False,\n",
       "        False, False,  True, False, False, False, False, False, False,\n",
       "        False,  True]),\n",
       " array([False, False,  True, False, False,  True,  True, False, False,\n",
       "        False, False, False,  True, False, False, False, False,  True,\n",
       "        False,  True]),\n",
       " array([False, False,  True, False, False,  True, False,  True, False,\n",
       "        False,  True, False, False,  True,  True, False, False,  True,\n",
       "         True, False]),\n",
       " array([False, False, False,  True, False, False, False,  True,  True,\n",
       "        False, False, False,  True, False, False, False,  True, False,\n",
       "        False, False]),\n",
       " array([False, False, False, False, False, False, False, False, False,\n",
       "        False, False, False, False, False, False,  True,  True, False,\n",
       "        False, False]))"
      ]
     },
     "execution_count": 233,
     "metadata": {},
     "output_type": "execute_result"
    }
   ],
   "source": [
    "SETS"
   ]
  },
  {
   "cell_type": "markdown",
   "metadata": {},
   "source": [
    "We reach the goal if taken sets cover all the set of \"tiles\" which number is PROBLEM_SIZE."
   ]
  },
  {
   "cell_type": "code",
   "execution_count": 234,
   "metadata": {},
   "outputs": [],
   "source": [
    "def goal_check(state):\n",
    "    return np.all(reduce(\n",
    "        np.logical_or,\n",
    "        [SETS[i] for i in state.taken],\n",
    "        np.array([False for _ in range(PROBLEM_SIZE)]),\n",
    "    ))\n",
    "\n",
    "assert goal_check(\n",
    "    State(set(range(NUM_SETS)), set())\n",
    "), \"Probelm not solvable\"\n"
   ]
  },
  {
   "cell_type": "markdown",
   "metadata": {},
   "source": [
    "We try to solve it with a Breadth-first search, just to have numbers to compare. For a Breadth-First search we use a SimpleQueue()."
   ]
  },
  {
   "cell_type": "code",
   "execution_count": 235,
   "metadata": {},
   "outputs": [],
   "source": [
    "def breadth_first_search(state): \n",
    "    frontier = SimpleQueue()\n",
    "    frontier.put(state)\n",
    "\n",
    "    counter = 0\n",
    "    current_state = frontier.get()\n",
    "    while not goal_check(current_state):\n",
    "        counter += 1\n",
    "        for action in current_state.not_taken:\n",
    "            new_state = State(\n",
    "                current_state.taken ^ {action},\n",
    "                current_state.not_taken ^ {action},\n",
    "            )\n",
    "            frontier.put(new_state)\n",
    "        current_state = frontier.get()\n",
    "    \n",
    "    print(f\"Solved in {counter:,} steps ({len(current_state.taken)} set of tiles)\")\n",
    "    print(f\"Solution for Breadth First Search: {current_state}\")\n"
   ]
  },
  {
   "cell_type": "markdown",
   "metadata": {},
   "source": [
    "Now, we want to implement $A^*$, so we define actual cost $g(\\cdot)$ and the heuristic $h(\\cdot)$. Each state $n$ will be inserted in the priority queue depending on the value $f(n)=g(n)+h(n)$. "
   ]
  },
  {
   "cell_type": "code",
   "execution_count": 236,
   "metadata": {},
   "outputs": [],
   "source": [
    "def actual_cost(state):\n",
    "    #actual cost (g) can be seen as the number of state taken\n",
    "    return len(state.taken)"
   ]
  },
  {
   "cell_type": "markdown",
   "metadata": {},
   "source": [
    "The distance is a pessimistic function, so it can be a candidate for heuristic."
   ]
  },
  {
   "cell_type": "code",
   "execution_count": 237,
   "metadata": {},
   "outputs": [],
   "source": [
    "def distance(state):\n",
    "    #the heuristic can be seen as the number of the remaining tiles to occupy, indeed we can think about in a pessimistic way: \n",
    "    #each tile could be given at least from one set, so we would need n set to cover n tiles!\n",
    "    return PROBLEM_SIZE - sum(\n",
    "        reduce(\n",
    "            np.logical_or,\n",
    "            [SETS[i] for i in state.taken],\n",
    "            np.array([False for _ in range(PROBLEM_SIZE)]),\n",
    "        ))"
   ]
  },
  {
   "cell_type": "markdown",
   "metadata": {},
   "source": [
    "The first heuristic I tried to implement was about:\n",
    "- we have NUM_SETS and PROBLEM_SIZE\n",
    "- since every set is generated with a probability < 0.3, we can say that we would need tiles * 0.3 at least to cover (rounded up), but in general not_taken * 0.3"
   ]
  },
  {
   "cell_type": "code",
   "execution_count": 238,
   "metadata": {},
   "outputs": [],
   "source": [
    "def heuristic_1(state):\n",
    "    return int(len(state.not_taken)/(len(state.not_taken)*0.3)) + 1 \n"
   ]
  },
  {
   "cell_type": "code",
   "execution_count": 239,
   "metadata": {},
   "outputs": [],
   "source": [
    "def a_star_search(state, h = distance, g=True):\n",
    "    frontier = PriorityQueue()\n",
    "    if g:\n",
    "        frontier.put((actual_cost(state) + h(state), state))\n",
    "    else:\n",
    "        frontier.put((h(state), state))\n",
    "    counter = 0\n",
    "    _, current_state = frontier.get()\n",
    "    while not goal_check(current_state):\n",
    "        #print(f'Current state is: {current_state}')\n",
    "        counter += 1\n",
    "        for action in current_state[1]:\n",
    "            new_state = State(\n",
    "                current_state.taken ^ {action},\n",
    "                current_state.not_taken ^ {action},\n",
    "            )\n",
    "            if g:\n",
    "                frontier.put((actual_cost(new_state) + h(new_state), new_state))\n",
    "            else:\n",
    "                frontier.put((h(new_state), new_state))\n",
    "            #print(f'Frontier: {frontier.queue}')\n",
    "        _, current_state = frontier.get()\n",
    "\n",
    "    print(\n",
    "        f\"Solved in {counter:,} steps ({len(current_state.taken)} set of tiles)\"\n",
    "    )\n",
    "\n",
    "    print(f\"Solution for A* Search: {current_state}\")\n"
   ]
  },
  {
   "cell_type": "markdown",
   "metadata": {},
   "source": [
    "Now we solve it with both searches so we can see the difference in terms of performance:"
   ]
  },
  {
   "cell_type": "code",
   "execution_count": 240,
   "metadata": {},
   "outputs": [],
   "source": [
    "#generate the state \n",
    "state = State(set(), set(range(NUM_SETS)))"
   ]
  },
  {
   "cell_type": "code",
   "execution_count": 241,
   "metadata": {},
   "outputs": [
    {
     "name": "stdout",
     "output_type": "stream",
     "text": [
      "Solved in 61,414 steps (4 set of tiles)\n",
      "Solution for Breadth First Search: State(taken={16, 0, 18, 1}, not_taken={2, 3, 4, 5, 6, 7, 8, 9, 10, 11, 12, 13, 14, 15, 17, 19, 20, 21, 22, 23, 24, 25, 26, 27, 28, 29, 30, 31, 32, 33, 34, 35, 36, 37, 38, 39})\n"
     ]
    }
   ],
   "source": [
    "breadth_first_search(state)"
   ]
  },
  {
   "cell_type": "code",
   "execution_count": 242,
   "metadata": {},
   "outputs": [
    {
     "name": "stdout",
     "output_type": "stream",
     "text": [
      "Solved in 4 steps (4 set of tiles)\n",
      "Solution for A* Search: State(taken={16, 0, 18, 1}, not_taken={2, 3, 4, 5, 6, 7, 8, 9, 10, 11, 12, 13, 14, 15, 17, 19, 20, 21, 22, 23, 24, 25, 26, 27, 28, 29, 30, 31, 32, 33, 34, 35, 36, 37, 38, 39})\n"
     ]
    }
   ],
   "source": [
    "a_star_search(state, g=False)"
   ]
  },
  {
   "cell_type": "code",
   "execution_count": 243,
   "metadata": {},
   "outputs": [
    {
     "name": "stdout",
     "output_type": "stream",
     "text": [
      "Solved in 4 steps (4 set of tiles)\n",
      "Solution for A* Search: State(taken={16, 0, 18, 1}, not_taken={2, 3, 4, 5, 6, 7, 8, 9, 10, 11, 12, 13, 14, 15, 17, 19, 20, 21, 22, 23, 24, 25, 26, 27, 28, 29, 30, 31, 32, 33, 34, 35, 36, 37, 38, 39})\n"
     ]
    }
   ],
   "source": [
    "a_star_search(state)"
   ]
  },
  {
   "cell_type": "code",
   "execution_count": 244,
   "metadata": {},
   "outputs": [
    {
     "name": "stdout",
     "output_type": "stream",
     "text": [
      "Solved in 61,181 steps (4 set of tiles)\n",
      "Solution for A* Search: State(taken={1, 18, 26, 7}, not_taken={0, 2, 3, 4, 5, 6, 8, 9, 10, 11, 12, 13, 14, 15, 16, 17, 19, 20, 21, 22, 23, 24, 25, 27, 28, 29, 30, 31, 32, 33, 34, 35, 36, 37, 38, 39})\n"
     ]
    }
   ],
   "source": [
    "a_star_search(state, h=heuristic_1)"
   ]
  },
  {
   "cell_type": "markdown",
   "metadata": {},
   "source": [
    "With this heuristic we have less step then Breadth-First.\n",
    "\n",
    "Now we implement an heuristic that returns the number of tiles in a set, so the more tiles the better!"
   ]
  },
  {
   "cell_type": "code",
   "execution_count": 245,
   "metadata": {},
   "outputs": [],
   "source": [
    "def heuristic_2(state):\n",
    "    return -np.sum(reduce(\n",
    "        np.logical_or, \n",
    "        [SETS[i] for i in state.not_taken],\n",
    "        np.zeros(PROBLEM_SIZE)\n",
    "    ))\n",
    "\n",
    "def heuristic_3(state):\n",
    "    h = -np.sum(reduce(\n",
    "        np.logical_or, \n",
    "        [SETS[i] for i in state.taken],\n",
    "        np.zeros(PROBLEM_SIZE)\n",
    "    ))\n",
    "    #print(h)\n",
    "    return h"
   ]
  },
  {
   "cell_type": "code",
   "execution_count": 246,
   "metadata": {},
   "outputs": [
    {
     "name": "stdout",
     "output_type": "stream",
     "text": [
      "Solved in 61,318 steps (4 set of tiles)\n",
      "Solution for A* Search: State(taken={1, 18, 26, 7}, not_taken={0, 2, 3, 4, 5, 6, 8, 9, 10, 11, 12, 13, 14, 15, 16, 17, 19, 20, 21, 22, 23, 24, 25, 27, 28, 29, 30, 31, 32, 33, 34, 35, 36, 37, 38, 39})\n"
     ]
    }
   ],
   "source": [
    "a_star_search(state, h=heuristic_2)"
   ]
  },
  {
   "cell_type": "code",
   "execution_count": 247,
   "metadata": {},
   "outputs": [
    {
     "name": "stdout",
     "output_type": "stream",
     "text": [
      "Solved in 4 steps (4 set of tiles)\n",
      "Solution for A* Search: State(taken={16, 0, 18, 1}, not_taken={2, 3, 4, 5, 6, 7, 8, 9, 10, 11, 12, 13, 14, 15, 17, 19, 20, 21, 22, 23, 24, 25, 26, 27, 28, 29, 30, 31, 32, 33, 34, 35, 36, 37, 38, 39})\n"
     ]
    }
   ],
   "source": [
    "a_star_search(state, h=heuristic_3)"
   ]
  },
  {
   "cell_type": "markdown",
   "metadata": {},
   "source": [
    "another version uses the number of uncovered elements from the subsets, so we can measure \"how\" they could contribute, but not \"how well\" unluckily (the quality depends also on the future!)."
   ]
  },
  {
   "cell_type": "code",
   "execution_count": 255,
   "metadata": {},
   "outputs": [],
   "source": [
    "def heuristic_4(state):\n",
    "    taken = reduce(\n",
    "        np.logical_or, \n",
    "        [SETS[i] for i in state.taken],\n",
    "        np.zeros(PROBLEM_SIZE, dtype=np.int8)\n",
    "    )\n",
    "    ntlist = []\n",
    "    for i in state.not_taken:\n",
    "        x = reduce(\n",
    "            np.logical_xor,\n",
    "            [np.array(SETS[i], dtype=np.int8), taken]\n",
    "        )\n",
    "        y = x ^ taken\n",
    "        #print('x - taken', np.sum(y))\n",
    "        ntlist.append(np.sum(x))\n",
    "    ntlist.sort(reverse=True)\n",
    "    #print(f'# uncovered from every not taken set: {ntlist}')\n",
    "    #now check uncovered tiles - sum (max tiles from set) \n",
    "    d = distance(state)\n",
    "    \n",
    "    count = 0\n",
    "    while (d>0) and ntlist:\n",
    "        d -= ntlist.pop()\n",
    "        count += 1\n",
    "\n",
    "    return count"
   ]
  },
  {
   "cell_type": "code",
   "execution_count": 256,
   "metadata": {},
   "outputs": [
    {
     "name": "stdout",
     "output_type": "stream",
     "text": [
      "Solved in 216 steps (4 set of tiles)\n",
      "Solution for A* Search: State(taken={0, 16, 18, 1}, not_taken={2, 3, 4, 5, 6, 7, 8, 9, 10, 11, 12, 13, 14, 15, 17, 19, 20, 21, 22, 23, 24, 25, 26, 27, 28, 29, 30, 31, 32, 33, 34, 35, 36, 37, 38, 39})\n"
     ]
    }
   ],
   "source": [
    "a_star_search(state, h=heuristic_4)"
   ]
  },
  {
   "cell_type": "markdown",
   "metadata": {},
   "source": [
    "it seems to work!\n",
    "following this trend, we try to mix this and the first heuristic: we take the distance and divide for the largest number of uncovered tiles and \"true\" tiles. "
   ]
  },
  {
   "cell_type": "code",
   "execution_count": 250,
   "metadata": {},
   "outputs": [],
   "source": [
    "def heuristic_5(state):\n",
    "    taken = reduce(\n",
    "        np.logical_or, \n",
    "        [SETS[i] for i in state.taken],\n",
    "        np.zeros(PROBLEM_SIZE, dtype=np.int8)\n",
    "    )\n",
    "    ntlist = []\n",
    "    for i in state.not_taken:\n",
    "        x = reduce(\n",
    "            np.logical_xor,\n",
    "            [np.array(SETS[i], dtype=np.int8), taken]\n",
    "        )\n",
    "        y = x ^ taken\n",
    "        ntlist.append(np.sum(y))\n",
    "\n",
    "    maxN = max(ntlist)\n",
    "    #print('max', maxN)\n",
    "    return int(distance(state)/maxN) + 1\n",
    "\n",
    "def heuristic_6(state):\n",
    "    #not checking the remaining tiles for n, but just the remaining sets\n",
    "    sets = (SETS[i] for i in state.not_taken)\n",
    "    d = distance(state)\n",
    "    \n",
    "    maxN = max(np.sum(subset) for subset in sets)\n",
    "    #print('max', maxN)\n",
    "    return int(d/maxN) "
   ]
  },
  {
   "cell_type": "code",
   "execution_count": 251,
   "metadata": {},
   "outputs": [],
   "source": [
    "#from professor Squillero repo, just for reference and comparison\n",
    "def h2(state):\n",
    "    already_covered = reduce(\n",
    "            np.logical_or,\n",
    "            [SETS[i] for i in state.taken],\n",
    "            np.array([False for _ in range(PROBLEM_SIZE)]),\n",
    "        )\n",
    "    if np.all(already_covered):\n",
    "        return 0\n",
    "    largest_set_size = max(sum(np.logical_and(s, np.logical_not(already_covered))) for s in SETS)\n",
    "    missing_size = distance(state)\n",
    "    optimistic_estimate = int(missing_size/largest_set_size) + 1\n",
    "    return optimistic_estimate"
   ]
  },
  {
   "cell_type": "code",
   "execution_count": 252,
   "metadata": {},
   "outputs": [
    {
     "name": "stdout",
     "output_type": "stream",
     "text": [
      "Solved in 17,443 steps (4 set of tiles)\n",
      "Solution for A* Search: State(taken={1, 26, 18, 7}, not_taken={0, 2, 3, 4, 5, 6, 8, 9, 10, 11, 12, 13, 14, 15, 16, 17, 19, 20, 21, 22, 23, 24, 25, 27, 28, 29, 30, 31, 32, 33, 34, 35, 36, 37, 38, 39})\n"
     ]
    }
   ],
   "source": [
    "a_star_search(state, h=heuristic_5)"
   ]
  },
  {
   "cell_type": "code",
   "execution_count": 253,
   "metadata": {},
   "outputs": [
    {
     "name": "stdout",
     "output_type": "stream",
     "text": [
      "Solved in 17,443 steps (4 set of tiles)\n",
      "Solution for A* Search: State(taken={1, 26, 18, 7}, not_taken={0, 2, 3, 4, 5, 6, 8, 9, 10, 11, 12, 13, 14, 15, 16, 17, 19, 20, 21, 22, 23, 24, 25, 27, 28, 29, 30, 31, 32, 33, 34, 35, 36, 37, 38, 39})\n"
     ]
    }
   ],
   "source": [
    "a_star_search(state, h=heuristic_6)"
   ]
  },
  {
   "cell_type": "code",
   "execution_count": 254,
   "metadata": {},
   "outputs": [
    {
     "name": "stdout",
     "output_type": "stream",
     "text": [
      "Solved in 882 steps (4 set of tiles)\n",
      "Solution for A* Search: State(taken={0, 9, 29, 30}, not_taken={1, 2, 3, 4, 5, 6, 7, 8, 10, 11, 12, 13, 14, 15, 16, 17, 18, 19, 20, 21, 22, 23, 24, 25, 26, 27, 28, 31, 32, 33, 34, 35, 36, 37, 38, 39})\n"
     ]
    }
   ],
   "source": [
    "a_star_search(state, h=h2)"
   ]
  }
 ],
 "metadata": {
  "kernelspec": {
   "display_name": "ci-P-7LqQ3C-py3.11",
   "language": "python",
   "name": "python3"
  },
  "language_info": {
   "codemirror_mode": {
    "name": "ipython",
    "version": 3
   },
   "file_extension": ".py",
   "mimetype": "text/x-python",
   "name": "python",
   "nbconvert_exporter": "python",
   "pygments_lexer": "ipython3",
   "version": "3.11.5"
  }
 },
 "nbformat": 4,
 "nbformat_minor": 2
}
