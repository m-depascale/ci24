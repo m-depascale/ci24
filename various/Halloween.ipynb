{
 "cells": [
  {
   "cell_type": "markdown",
   "id": "185f9931-b384-4fdc-a5b2-eea785428bb8",
   "metadata": {},
   "source": [
    "Copyright **`(c)`** 2023 Giovanni Squillero `<giovanni.squillero@polito.it>`  \n",
    "[`https://github.com/squillero/computational-intelligence`](https://github.com/squillero/computational-intelligence)  \n",
    "Free for personal or classroom use; see [`LICENSE.md`](https://github.com/squillero/computational-intelligence/blob/master/LICENSE.md) for details.  "
   ]
  },
  {
   "cell_type": "code",
   "execution_count": 371,
   "id": "3ffe7245-e849-41d0-9698-5f0e0b83fee9",
   "metadata": {},
   "outputs": [],
   "source": [
    "from itertools import product\n",
    "from random import random, randint, shuffle, seed, choice\n",
    "import numpy as np\n",
    "from scipy import sparse\n",
    "from functools import reduce\n",
    "from copy import copy"
   ]
  },
  {
   "cell_type": "code",
   "execution_count": 372,
   "id": "6f03bd67-78a0-4d72-95b7-77a918727b91",
   "metadata": {},
   "outputs": [],
   "source": [
    "def make_set_covering_problem(num_points, num_sets, density):\n",
    "    \"\"\"Returns a sparse array where rows are sets and columns are the covered items\"\"\"\n",
    "    seed(num_points*2654435761+num_sets+density)\n",
    "    sets = sparse.lil_array((num_sets, num_points), dtype=bool)\n",
    "    for s, p in product(range(num_sets), range(num_points)):\n",
    "        if random() < density:\n",
    "            sets[s, p] = True\n",
    "    for p in range(num_points):\n",
    "        sets[randint(0, num_sets-1), p] = True\n",
    "    return sets"
   ]
  },
  {
   "cell_type": "markdown",
   "id": "82b0be37-21d9-492d-9a1d-cf0cdf0ddd76",
   "metadata": {},
   "source": [
    "# Halloween Challenge\n",
    "\n",
    "Find the best solution with the fewest calls to the fitness functions for:\n",
    "\n",
    "* `num_points = [100, 1_000, 5_000]`\n",
    "* `num_sets = num_points`\n",
    "* `density = [.3, .7]` "
   ]
  },
  {
   "cell_type": "code",
   "execution_count": 373,
   "id": "a4712aac",
   "metadata": {},
   "outputs": [],
   "source": [
    "NUM_POINTS = 10"
   ]
  },
  {
   "cell_type": "code",
   "execution_count": 374,
   "id": "221ffdba-5d3d-48cc-bd08-45ccc9366ea6",
   "metadata": {},
   "outputs": [],
   "source": [
    "x = make_set_covering_problem(NUM_POINTS, NUM_POINTS, .3)\n",
    "#print(\"Element at row=42 and column=42:\", x[42, 42])"
   ]
  },
  {
   "cell_type": "code",
   "execution_count": 375,
   "id": "6492337b-8429-472d-9c3e-c79c5b46da54",
   "metadata": {},
   "outputs": [
    {
     "data": {
      "text/plain": [
       "array([[False,  True,  True, False, False,  True, False, False, False,\n",
       "         True],\n",
       "       [False, False,  True, False, False, False, False,  True, False,\n",
       "        False],\n",
       "       [False,  True, False,  True, False, False,  True, False,  True,\n",
       "         True],\n",
       "       [ True, False, False, False, False, False, False,  True,  True,\n",
       "        False],\n",
       "       [False, False, False,  True, False,  True,  True, False,  True,\n",
       "        False],\n",
       "       [False, False,  True, False, False, False, False, False, False,\n",
       "         True],\n",
       "       [False, False,  True,  True,  True, False, False, False,  True,\n",
       "        False],\n",
       "       [False,  True,  True, False, False, False, False, False,  True,\n",
       "         True],\n",
       "       [ True, False, False, False, False, False,  True,  True, False,\n",
       "         True],\n",
       "       [ True, False,  True, False,  True, False,  True,  True, False,\n",
       "        False]])"
      ]
     },
     "execution_count": 375,
     "metadata": {},
     "output_type": "execute_result"
    }
   ],
   "source": [
    "sets = x.toarray()\n",
    "sets"
   ]
  },
  {
   "cell_type": "code",
   "execution_count": 376,
   "id": "f44a4d3c",
   "metadata": {},
   "outputs": [],
   "source": [
    "from collections import namedtuple\n",
    "State = namedtuple('State', ['taken', 'not_taken'])\n"
   ]
  },
  {
   "cell_type": "code",
   "execution_count": 377,
   "id": "8280ed4c",
   "metadata": {},
   "outputs": [],
   "source": [
    "def fitness(state):\n",
    "    cost = sum(state)\n",
    "    valid = np.sum(\n",
    "        reduce(\n",
    "            np.logical_or,\n",
    "            [sets[i] for i, t in enumerate(state) if t],\n",
    "            np.array([False for _ in range(NUM_POINTS)]),\n",
    "        )\n",
    "    )\n",
    "    return valid, -cost"
   ]
  },
  {
   "cell_type": "code",
   "execution_count": 378,
   "id": "3ad87ded",
   "metadata": {},
   "outputs": [],
   "source": [
    "def tweak(state):\n",
    "    new_state = copy(state)\n",
    "    index = randint(0, NUM_POINTS - 1)\n",
    "    #print(index, new_state[index])\n",
    "    new_state[index] = not new_state[index]\n",
    "    return new_state"
   ]
  },
  {
   "cell_type": "code",
   "execution_count": 379,
   "id": "dc625905",
   "metadata": {},
   "outputs": [
    {
     "name": "stdout",
     "output_type": "stream",
     "text": [
      "[False, False, False, False, False, False, False, False, False, False]\n",
      "(0, 0)\n",
      "0\n",
      "(3, -1)\n",
      "1\n",
      "(7, -2)\n",
      "2\n",
      "(9, -3)\n",
      "3\n",
      "(10, -4)\n"
     ]
    }
   ],
   "source": [
    "current_state = [choice([False]) for _ in range(NUM_POINTS)]\n",
    "print(current_state)\n",
    "\n",
    "print(fitness(current_state))\n",
    "\n",
    "for step in range(1_000):\n",
    "    new_state = tweak(current_state)\n",
    "    if fitness(new_state) >= fitness(current_state):\n",
    "        current_state = new_state\n",
    "        #print(step)\n",
    "        print(fitness(current_state))"
   ]
  },
  {
   "cell_type": "code",
   "execution_count": 380,
   "id": "10d5d0c4",
   "metadata": {},
   "outputs": [
    {
     "data": {
      "text/plain": [
       "[True, False, False, True, True, False, True, False, False, False]"
      ]
     },
     "execution_count": 380,
     "metadata": {},
     "output_type": "execute_result"
    }
   ],
   "source": [
    "current_state"
   ]
  }
 ],
 "metadata": {
  "kernelspec": {
   "display_name": "Python 3 (ipykernel)",
   "language": "python",
   "name": "python3"
  },
  "language_info": {
   "codemirror_mode": {
    "name": "ipython",
    "version": 3
   },
   "file_extension": ".py",
   "mimetype": "text/x-python",
   "name": "python",
   "nbconvert_exporter": "python",
   "pygments_lexer": "ipython3",
   "version": "3.11.5"
  }
 },
 "nbformat": 4,
 "nbformat_minor": 5
}
